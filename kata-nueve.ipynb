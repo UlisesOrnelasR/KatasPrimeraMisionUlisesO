{
 "cells": [
  {
   "cell_type": "markdown",
   "metadata": {},
   "source": [
    "#### Ejercicio: Uso de funciones en Python\n",
    "Ejercicio 1: Trabajar con argumentos en funciones\n",
    "//// Ulises Ornelas"
   ]
  },
  {
   "cell_type": "code",
   "execution_count": 25,
   "metadata": {},
   "outputs": [],
   "source": [
    "def combustible(tanque1, tanque2, tanque3):\n",
    "    status = print(f'El tanque 1 tiene {tanque1}%, tanque2 {tanque2}%, y el tanque3 tiene {tanque3}% \\nEl promedio restante es {(tanque1 + tanque2 + tanque3)/3}%')\n",
    "    return status\n"
   ]
  },
  {
   "cell_type": "code",
   "execution_count": 26,
   "metadata": {},
   "outputs": [
    {
     "name": "stdout",
     "output_type": "stream",
     "text": [
      "El tanque 1 tiene 33%, tanque2 30%, y el tanque3 tiene 30% \n",
      "El promedio restante es 31.0%\n"
     ]
    }
   ],
   "source": [
    "combustible(33, 30, 30)\n"
   ]
  },
  {
   "cell_type": "markdown",
   "metadata": {},
   "source": [
    "Ahora actualiza la función de informes para llamando a la nueva función del promedio:"
   ]
  },
  {
   "cell_type": "code",
   "execution_count": 27,
   "metadata": {},
   "outputs": [
    {
     "data": {
      "text/plain": [
       "26.0"
      ]
     },
     "execution_count": 27,
     "metadata": {},
     "output_type": "execute_result"
    }
   ],
   "source": [
    "def promedio(values):\n",
    "    total = sum(values)\n",
    "    items = len(values)\n",
    "    return total / items\n",
    "promedio([32, 23, 23])"
   ]
  },
  {
   "cell_type": "code",
   "execution_count": 30,
   "metadata": {},
   "outputs": [],
   "source": [
    "def combustible(tanque1, tanque2, tanque3):\n",
    "    status = print(f'El tanque 1 tiene {tanque1}%, tanque2 {tanque2}%, y el tanque3 tiene {tanque3}% \\nEl promedio restante es {promedio([tanque1, tanque2, tanque3])}%')\n",
    "    return status"
   ]
  },
  {
   "cell_type": "code",
   "execution_count": 29,
   "metadata": {},
   "outputs": [
    {
     "name": "stdout",
     "output_type": "stream",
     "text": [
      "El tanque 1 tiene 32%, tanque2 23%, y el tanque3 tiene 23% \n",
      "El promedio restante es 26.0%\n",
      "None\n"
     ]
    }
   ],
   "source": [
    "print(combustible(32, 23, 23))"
   ]
  },
  {
   "cell_type": "markdown",
   "metadata": {},
   "source": [
    "Ejercicio 2: Trabajo con argumentos de palabra clave///\n",
    "Ejercicio : Trabajar con argumentos de palabras clave en funciones"
   ]
  },
  {
   "cell_type": "code",
   "execution_count": 2,
   "metadata": {},
   "outputs": [
    {
     "name": "stdout",
     "output_type": "stream",
     "text": [
      "Mision to: Marte\n",
      "Total tiempo de vuelo: 65 minutos\n",
      "Combustible restante: 230000 gallones\n",
      "None\n"
     ]
    }
   ],
   "source": [
    "def informe(prelanzamiento, tiempoVuelo, destino, tanqueExterno, tanqueInterno ):\n",
    "    return print(f'Mision to: {destino}\\nTotal tiempo de vuelo: {prelanzamiento + tiempoVuelo} minutos\\nCombustible restante: {tanqueExterno + tanqueInterno} gallones')\n",
    "\n",
    "print(informe(14, 51, 'Marte', 200000, 30000))\n",
    "\n"
   ]
  },
  {
   "cell_type": "markdown",
   "metadata": {},
   "source": [
    "La función es problemática porque no se puede adaptar para minutos adicionales o tanques adicionales de combustible. Hazlo más flexible permitiendo cualquier número de pasos basados en el tiempo y cualquier número de tanques. \n",
    "Escribe tu nueva función de reporte considerando lo anterior"
   ]
  },
  {
   "cell_type": "code",
   "execution_count": 10,
   "metadata": {},
   "outputs": [
    {
     "name": "stdout",
     "output_type": "stream",
     "text": [
      "Mission to: Luna\n",
      "Total time travel: 68 minutos\n",
      "Combustible restante: 1232\n",
      "None\n"
     ]
    }
   ],
   "source": [
    "def informe(destino, *minutosExtras, **combustible):\n",
    "    return print(f'Mission to: {destino}\\nTotal time travel: {sum(minutosExtras)} minutos\\nCombustible restante: {sum(combustible.values())}')\n",
    "\n",
    "print(informe(\"Luna\", 34, 34, interno=233, externo=999))\n",
    "\n"
   ]
  },
  {
   "cell_type": "code",
   "execution_count": 11,
   "metadata": {},
   "outputs": [
    {
     "name": "stdout",
     "output_type": "stream",
     "text": [
      "\n",
      "    Mission to Moon\n",
      "    Total travel time: 76 minutes\n",
      "    Total fuel left: 500000\n",
      "    \n"
     ]
    }
   ],
   "source": [
    "def mission_report(destination, *minutes, **fuel_reservoirs):\n",
    "    return f\"\"\"\n",
    "    Mission to {destination}\n",
    "    Total travel time: {sum(minutes)} minutes\n",
    "    Total fuel left: {sum(fuel_reservoirs.values())}\n",
    "    \"\"\"\n",
    "\n",
    "print(mission_report(\"Moon\", 10, 15, 51, main=300000, external=200000))"
   ]
  },
  {
   "cell_type": "markdown",
   "metadata": {},
   "source": [
    "Debido a que el combustible que queda en los tanques es específico de cada tanque, actualiza la función para usar el nombre de cada tanque en el informe:"
   ]
  },
  {
   "cell_type": "code",
   "execution_count": 21,
   "metadata": {},
   "outputs": [
    {
     "name": "stdout",
     "output_type": "stream",
     "text": [
      "\n",
      "    Mission to Moon\n",
      "    Total travel time: 74 minutes\n",
      "    Total fuel left: 500000\n",
      "    main tank --> 300000 gallons left\n",
      "external tank --> 200000 gallons left\n",
      "\n"
     ]
    }
   ],
   "source": [
    "def mission_report(destination, *minutes, **fuel_reservoirs):\n",
    "    main_report = f\"\"\"\n",
    "    Mission to {destination}\n",
    "    Total travel time: {sum(minutes)} minutes\n",
    "    Total fuel left: {sum(fuel_reservoirs.values())}\n",
    "    \"\"\"\n",
    "    for tank_name, gallons in fuel_reservoirs.items():\n",
    "        main_report += f\"{tank_name} tank --> {gallons} gallons left\\n\"\n",
    "    return main_report\n",
    "\n",
    "print(mission_report(\"Moon\", 8, 11, 55, main=300000, external=200000))\n"
   ]
  }
 ],
 "metadata": {
  "interpreter": {
   "hash": "2c1276b1bf1012319b2bca900fab8da0630160470e7a61fa1dece372795d9a31"
  },
  "kernelspec": {
   "display_name": "Python 3.9.10 64-bit",
   "language": "python",
   "name": "python3"
  },
  "language_info": {
   "codemirror_mode": {
    "name": "ipython",
    "version": 3
   },
   "file_extension": ".py",
   "mimetype": "text/x-python",
   "name": "python",
   "nbconvert_exporter": "python",
   "pygments_lexer": "ipython3",
   "version": "3.9.10"
  },
  "orig_nbformat": 4
 },
 "nbformat": 4,
 "nbformat_minor": 2
}
