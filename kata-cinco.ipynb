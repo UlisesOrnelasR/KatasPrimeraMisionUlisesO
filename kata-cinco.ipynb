{
 "cells": [
  {
   "cell_type": "markdown",
   "metadata": {},
   "source": [
    "#### Ejercicio1 - Utilizar operadores aritméticos///Ulises Ornelas"
   ]
  },
  {
   "cell_type": "code",
   "execution_count": 31,
   "metadata": {},
   "outputs": [
    {
     "name": "stdout",
     "output_type": "stream",
     "text": [
      "628949330\n"
     ]
    }
   ],
   "source": [
    "# Dsistancia del sol al planeta...\n",
    "tierra = 149597870\n",
    "jupiter = 778547200\n",
    "distancia_entre = abs(tierra-jupiter)\n",
    "print((distancia_entre))"
   ]
  },
  {
   "cell_type": "code",
   "execution_count": 32,
   "metadata": {},
   "outputs": [
    {
     "name": "stdout",
     "output_type": "stream",
     "text": [
      "390577534\n"
     ]
    }
   ],
   "source": [
    "distancia_entre_millas = distancia_entre * 0.621\n",
    "print(round(distancia_entre_millas))"
   ]
  },
  {
   "cell_type": "code",
   "execution_count": 33,
   "metadata": {},
   "outputs": [],
   "source": [
    "# Almacenar las entradas del usuario\n",
    "planeta1 = input('Ingrese nombre del planeta')\n",
    "planeta1_dis = input('ingrese distancia desde el sol hasta Planetauno')\n",
    "planeta2 = input('Ingrese nombre del planeta')\n",
    "planeta2_dis = input('ingrese distancia desde el sol hasta Planetados')"
   ]
  },
  {
   "cell_type": "code",
   "execution_count": 34,
   "metadata": {},
   "outputs": [],
   "source": [
    "# Convierte las cadenas de ambos planetas a números enteros\n",
    "planeta1_dis = int(planeta1_dis)\n",
    "planeta2_dis = int(planeta2_dis)"
   ]
  },
  {
   "cell_type": "code",
   "execution_count": 35,
   "metadata": {},
   "outputs": [
    {
     "name": "stdout",
     "output_type": "stream",
     "text": [
      "2307946500\n"
     ]
    }
   ],
   "source": [
    "distancia_entre = abs(planeta1_dis - planeta2_dis)\n",
    "distancia_entre_millas = distancia_entre * 0.621\n",
    "print(round(distancia_entre_millas))"
   ]
  },
  {
   "cell_type": "code",
   "execution_count": null,
   "metadata": {},
   "outputs": [],
   "source": []
  }
 ],
 "metadata": {
  "interpreter": {
   "hash": "2c1276b1bf1012319b2bca900fab8da0630160470e7a61fa1dece372795d9a31"
  },
  "kernelspec": {
   "display_name": "Python 3.9.10 64-bit",
   "language": "python",
   "name": "python3"
  },
  "language_info": {
   "codemirror_mode": {
    "name": "ipython",
    "version": 3
   },
   "file_extension": ".py",
   "mimetype": "text/x-python",
   "name": "python",
   "nbconvert_exporter": "python",
   "pygments_lexer": "ipython3",
   "version": "3.9.10"
  },
  "orig_nbformat": 4
 },
 "nbformat": 4,
 "nbformat_minor": 2
}
