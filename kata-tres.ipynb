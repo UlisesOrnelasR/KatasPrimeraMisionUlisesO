{
 "cells": [
  {
   "cell_type": "markdown",
   "metadata": {},
   "source": [
    "### ***Kata 3///Ulises Ornelas***\n",
    "##### Para este ejercicio, escribirás una lógica condicional que imprima una advertencia si un asteroide se acerca a la Tierra demasiado rápido. La velocidad del asteroide varía dependiendo de lo cerca que esté del sol, y cualquier velocidad superior a 25 kilómetros por segundo (km/s) merece una advertencia.\n",
    "\n",
    "##### Un asteroide se acerca, y viaja a una velocidad de 49 km/s."
   ]
  },
  {
   "cell_type": "code",
   "execution_count": 11,
   "metadata": {},
   "outputs": [
    {
     "name": "stdout",
     "output_type": "stream",
     "text": [
      "Se acerca un asteroiiiideeeeee a 49  Km/s !!!\n"
     ]
    }
   ],
   "source": [
    "velocidadAst = 49\n",
    "if velocidadAst > 25:\n",
    "    print(\"Se acerca un asteroiiiideeeeee a\",int(velocidadAst),\" Km/s !!!\")\n",
    "else:\n",
    "    print(\"Todo tranquilo, relájense \")\n"
   ]
  },
  {
   "cell_type": "markdown",
   "metadata": {},
   "source": [
    "##### Si un asteroide entra en la atmósfera de la Tierra a una velocidad mayor o igual a 20 km/s, a veces produce un rayo de luz que se puede ver desde la Tierra. Escribe la lógica condicional que usa declaraciones if, else, y elif para alertar a las personas de todo el mundo que deben buscar un asteroide en el cielo. ¡Hay uno que se dirige a la tierra ahora a una velocidad de 19 km/s!"
   ]
  },
  {
   "cell_type": "code",
   "execution_count": 14,
   "metadata": {},
   "outputs": [
    {
     "name": "stdout",
     "output_type": "stream",
     "text": [
      "chale, no se puede ver :c\n"
     ]
    }
   ],
   "source": [
    "velocidadAst2 = 19\n",
    "if velocidadAst2 > 20:\n",
    "    print(\"Mirad el rayoooo de luzzzz!!\")\n",
    "elif velocidadAst2 == 20:\n",
    "    print(\"Mirad el rayoooo de luzzzz!!\")\n",
    "else:\n",
    "    print(\"chale, no se puede ver :c\")\n",
    "\n",
    "\n",
    "   \n"
   ]
  },
  {
   "cell_type": "markdown",
   "metadata": {},
   "source": [
    "##### Ejercicio: Uso de operadores and y or"
   ]
  },
  {
   "cell_type": "code",
   "execution_count": 24,
   "metadata": {},
   "outputs": [
    {
     "name": "stdout",
     "output_type": "stream",
     "text": [
      "Pueden observar el rayooo de luz\n",
      "Todoooos moriremooooooos!!!!!\n"
     ]
    }
   ],
   "source": [
    "velocidad = 25\n",
    "tamaño = 500\n",
    "\n",
    "if velocidad > 25 :\n",
    "    print(\"Se acerca un asteroide a gran velocidad!ADVERTENCIAAA\")\n",
    "    print(\"Pueden observarlooooo\")\n",
    "elif velocidad >= 20:\n",
    "    print(\"Pueden observar el rayooo de luz\")\n",
    "else:\n",
    "    print(\"No pasa nada, sigan con su vida!\")\n",
    "\n",
    "if tamaño < 25:\n",
    "    print(\"El asteroide se quemara tranquilos\")\n",
    "elif tamaño > 25 and tamaño < 1000:\n",
    "    print(\"Todoooos moriremooooooos!!!!!\")\n",
    "\n"
   ]
  }
 ],
 "metadata": {
  "interpreter": {
   "hash": "2c1276b1bf1012319b2bca900fab8da0630160470e7a61fa1dece372795d9a31"
  },
  "kernelspec": {
   "display_name": "Python 3.9.10 64-bit",
   "language": "python",
   "name": "python3"
  },
  "language_info": {
   "codemirror_mode": {
    "name": "ipython",
    "version": 3
   },
   "file_extension": ".py",
   "mimetype": "text/x-python",
   "name": "python",
   "nbconvert_exporter": "python",
   "pygments_lexer": "ipython3",
   "version": "3.9.10"
  },
  "orig_nbformat": 4
 },
 "nbformat": 4,
 "nbformat_minor": 2
}
