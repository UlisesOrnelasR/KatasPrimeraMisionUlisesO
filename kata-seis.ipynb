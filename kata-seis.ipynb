{
 "cells": [
  {
   "cell_type": "markdown",
   "metadata": {},
   "source": [
    "###  Ejercicio1: Crear y usar listas de Python///Ulises Ornelas\n",
    "Comenzarás un proyecto sobre información planetaria creando una lista de planetas."
   ]
  },
  {
   "cell_type": "code",
   "execution_count": 35,
   "metadata": {},
   "outputs": [
    {
     "data": {
      "text/plain": [
       "8"
      ]
     },
     "execution_count": 35,
     "metadata": {},
     "output_type": "execute_result"
    }
   ],
   "source": [
    "planetas = ['Mercurio', 'Venus', 'Tierra', 'Marte', 'Jupiter', 'Saturno', 'Urano', 'Neptuno']\n",
    "len(planetas)"
   ]
  },
  {
   "cell_type": "code",
   "execution_count": 44,
   "metadata": {},
   "outputs": [],
   "source": [
    "planetas.append('pluton')"
   ]
  },
  {
   "cell_type": "code",
   "execution_count": 45,
   "metadata": {},
   "outputs": [
    {
     "name": "stdout",
     "output_type": "stream",
     "text": [
      "9\n",
      "['Mercurio', 'Venus', 'Tierra', 'Marte', 'Jupiter', 'Saturno', 'Urano', 'Neptuno', 'pluton']\n"
     ]
    }
   ],
   "source": [
    "print(len(planetas))\n",
    "print(planetas)"
   ]
  },
  {
   "cell_type": "markdown",
   "metadata": {},
   "source": [
    "Ejercicio 2: Trabajando con datos de una lista\n"
   ]
  },
  {
   "cell_type": "markdown",
   "metadata": {},
   "source": [
    "Solicita al usuario el nombre de un planeta y Encuentra el planeta en la lista"
   ]
  },
  {
   "cell_type": "code",
   "execution_count": 52,
   "metadata": {},
   "outputs": [
    {
     "name": "stdout",
     "output_type": "stream",
     "text": [
      "Ingrrese nombre del planeta \"Iniciando la primer letra con mayuscula\"\n",
      "el planeta  Tierra  se encuentra en la posicion  3\n"
     ]
    }
   ],
   "source": [
    "print('Ingrrese nombre del planeta \"Iniciando la primer letra con mayuscula\"')\n",
    "dameNombre = input()\n",
    "posicion_planeta = planetas.index(dameNombre)\n",
    "print('El planeta ',dameNombre,' se encuentra en la posicion ',posicion_planeta + 1)"
   ]
  },
  {
   "cell_type": "markdown",
   "metadata": {},
   "source": [
    "Mostrar planetas más cercanos al sol que el que el usuario ingresó"
   ]
  },
  {
   "cell_type": "code",
   "execution_count": 56,
   "metadata": {},
   "outputs": [
    {
     "name": "stdout",
     "output_type": "stream",
     "text": [
      "Ingrrese nombre del planeta \"Iniciando la primer letra con mayuscula\"\n",
      "El planeta  Tierra  se encuentra en la posicion  3\n",
      "Los planteas que estan mas cercas al sol antes que Tierra  son:  ['Mercurio', 'Venus']\n"
     ]
    }
   ],
   "source": [
    "print('Ingrrese nombre del planeta \"Iniciando la primer letra con mayuscula\"')\n",
    "dameNombre = input()\n",
    "posicion_planeta = planetas.index(dameNombre)\n",
    "print('El planeta ',dameNombre,' se encuentra en la posicion ',posicion_planeta + 1)\n",
    "\n",
    "antesde_dameNombre = planetas[0:posicion_planeta]\n",
    "print('Los planteas que estan mas cercas al sol antes que', dameNombre, ' son: ' ,antesde_dameNombre) "
   ]
  },
  {
   "cell_type": "code",
   "execution_count": 59,
   "metadata": {},
   "outputs": [
    {
     "name": "stdout",
     "output_type": "stream",
     "text": [
      "Ingrrese nombre del planeta \"Iniciando la primer letra con mayuscula\"\n",
      "El planeta  Tierra  se encuentra en la posicion  3\n",
      "Los planteas que estan mas alejados al sol antes que Tierra  son:  ['Marte', 'Jupiter', 'Saturno', 'Urano', 'Neptuno', 'pluton']\n"
     ]
    }
   ],
   "source": [
    "print('Ingrrese nombre del planeta \"Iniciando la primer letra con mayuscula\"')\n",
    "dameNombre = input()\n",
    "posicion_planeta = planetas.index(dameNombre)\n",
    "print('El planeta ',dameNombre,' se encuentra en la posicion ',posicion_planeta + 1)\n",
    "\n",
    "antesde_dameNombre = planetas[(posicion_planeta + 1):]\n",
    "print('Los planteas que estan mas alejados al sol antes que', dameNombre, ' son: ' ,antesde_dameNombre) "
   ]
  }
 ],
 "metadata": {
  "interpreter": {
   "hash": "2c1276b1bf1012319b2bca900fab8da0630160470e7a61fa1dece372795d9a31"
  },
  "kernelspec": {
   "display_name": "Python 3.9.10 64-bit",
   "language": "python",
   "name": "python3"
  },
  "language_info": {
   "codemirror_mode": {
    "name": "ipython",
    "version": 3
   },
   "file_extension": ".py",
   "mimetype": "text/x-python",
   "name": "python",
   "nbconvert_exporter": "python",
   "pygments_lexer": "ipython3",
   "version": "3.9.10"
  },
  "orig_nbformat": 4
 },
 "nbformat": 4,
 "nbformat_minor": 2
}
