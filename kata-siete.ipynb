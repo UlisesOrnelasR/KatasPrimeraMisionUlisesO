{
 "cells": [
  {
   "cell_type": "markdown",
   "metadata": {},
   "source": [
    "#### Ejercicio 1: Creación de un bucle \"while\"////Ulises Ornelas\n",
    "Ejercicio 1: Uso de ciclos while en Python"
   ]
  },
  {
   "cell_type": "code",
   "execution_count": 29,
   "metadata": {},
   "outputs": [
    {
     "name": "stdout",
     "output_type": "stream",
     "text": [
      "Ingrese otro planeta o pulse \"s\" para salir\n",
      "Ingrese otro planeta o pulse \"s\" para salir\n",
      "Ingrese otro planeta o pulse \"s\" para salir\n",
      "Ingrese otro planeta o pulse \"s\" para salir\n"
     ]
    }
   ],
   "source": [
    "planeta = ''\n",
    "planetas = []\n",
    "\n",
    "while planeta.lower() != 's':\n",
    "    if planeta:\n",
    "        planetas.append(planeta)\n",
    "    print('Ingrese otro planeta o pulse \"s\" para salir')\n",
    "    planeta = input()\n",
    "\n",
    "\n",
    "\n"
   ]
  },
  {
   "cell_type": "code",
   "execution_count": 31,
   "metadata": {},
   "outputs": [
    {
     "data": {
      "text/plain": [
       "['mercurio', 'venus', 'tierra']"
      ]
     },
     "execution_count": 31,
     "metadata": {},
     "output_type": "execute_result"
    }
   ],
   "source": [
    "planetas"
   ]
  },
  {
   "cell_type": "markdown",
   "metadata": {},
   "source": [
    "Ejercicio 2: Creación de un ciclo \"for\"\n",
    "Ejercicio: - Ciclo para una lista\n",
    "////Mostrar la lista de los planetas"
   ]
  },
  {
   "cell_type": "code",
   "execution_count": 33,
   "metadata": {},
   "outputs": [
    {
     "name": "stdout",
     "output_type": "stream",
     "text": [
      "mercurio\n",
      "venus\n",
      "tierra\n"
     ]
    }
   ],
   "source": [
    "for i in planetas:\n",
    "    print(i)"
   ]
  }
 ],
 "metadata": {
  "interpreter": {
   "hash": "2c1276b1bf1012319b2bca900fab8da0630160470e7a61fa1dece372795d9a31"
  },
  "kernelspec": {
   "display_name": "Python 3.9.10 64-bit",
   "language": "python",
   "name": "python3"
  },
  "language_info": {
   "codemirror_mode": {
    "name": "ipython",
    "version": 3
   },
   "file_extension": ".py",
   "mimetype": "text/x-python",
   "name": "python",
   "nbconvert_exporter": "python",
   "pygments_lexer": "ipython3",
   "version": "3.9.10"
  },
  "orig_nbformat": 4
 },
 "nbformat": 4,
 "nbformat_minor": 2
}
