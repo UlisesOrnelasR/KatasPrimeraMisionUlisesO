{
 "cells": [
  {
   "cell_type": "markdown",
   "metadata": {},
   "source": [
    "### Manejo de errores//Ulises Ornelas\n"
   ]
  },
  {
   "cell_type": "code",
   "execution_count": 3,
   "metadata": {},
   "outputs": [
    {
     "ename": "FileNotFoundError",
     "evalue": "[Errno 2] No such file or directory: '/path/to/mars.jpg'",
     "output_type": "error",
     "traceback": [
      "\u001b[1;31m---------------------------------------------------------------------------\u001b[0m",
      "\u001b[1;31mFileNotFoundError\u001b[0m                         Traceback (most recent call last)",
      "\u001b[1;32mc:\\Users\\ornel\\Documents\\pythonPrimeraMision\\KatasPrimeraMision\\kata-diez.ipynb Cell 2'\u001b[0m in \u001b[0;36m<module>\u001b[1;34m\u001b[0m\n\u001b[1;32m----> <a href='vscode-notebook-cell:/c%3A/Users/ornel/Documents/pythonPrimeraMision/KatasPrimeraMision/kata-diez.ipynb#ch0000002?line=0'>1</a>\u001b[0m \u001b[39mopen\u001b[39;49m(\u001b[39m\"\u001b[39;49m\u001b[39m/path/to/mars.jpg\u001b[39;49m\u001b[39m\"\u001b[39;49m)\n",
      "\u001b[1;31mFileNotFoundError\u001b[0m: [Errno 2] No such file or directory: '/path/to/mars.jpg'"
     ]
    }
   ],
   "source": [
    "open(\"/path/to/mars.jpg\")\n",
    "\n"
   ]
  },
  {
   "cell_type": "code",
   "execution_count": 4,
   "metadata": {},
   "outputs": [
    {
     "ename": "FileNotFoundError",
     "evalue": "[Errno 2] No such file or directory: '/path/to/mars.jpg'",
     "output_type": "error",
     "traceback": [
      "\u001b[1;31m---------------------------------------------------------------------------\u001b[0m",
      "\u001b[1;31mFileNotFoundError\u001b[0m                         Traceback (most recent call last)",
      "\u001b[1;32mc:\\Users\\ornel\\Documents\\pythonPrimeraMision\\KatasPrimeraMision\\kata-diez.ipynb Cell 3'\u001b[0m in \u001b[0;36m<module>\u001b[1;34m\u001b[0m\n\u001b[0;32m      <a href='vscode-notebook-cell:/c%3A/Users/ornel/Documents/pythonPrimeraMision/KatasPrimeraMision/kata-diez.ipynb#ch0000004?line=1'>2</a>\u001b[0m     \u001b[39mopen\u001b[39m(\u001b[39m\"\u001b[39m\u001b[39m/path/to/mars.jpg\u001b[39m\u001b[39m\"\u001b[39m)\n\u001b[0;32m      <a href='vscode-notebook-cell:/c%3A/Users/ornel/Documents/pythonPrimeraMision/KatasPrimeraMision/kata-diez.ipynb#ch0000004?line=3'>4</a>\u001b[0m \u001b[39mif\u001b[39;00m \u001b[39m__name__\u001b[39m \u001b[39m==\u001b[39m \u001b[39m'\u001b[39m\u001b[39m__main__\u001b[39m\u001b[39m'\u001b[39m:\n\u001b[1;32m----> <a href='vscode-notebook-cell:/c%3A/Users/ornel/Documents/pythonPrimeraMision/KatasPrimeraMision/kata-diez.ipynb#ch0000004?line=4'>5</a>\u001b[0m     main()\n",
      "\u001b[1;32mc:\\Users\\ornel\\Documents\\pythonPrimeraMision\\KatasPrimeraMision\\kata-diez.ipynb Cell 3'\u001b[0m in \u001b[0;36mmain\u001b[1;34m()\u001b[0m\n\u001b[0;32m      <a href='vscode-notebook-cell:/c%3A/Users/ornel/Documents/pythonPrimeraMision/KatasPrimeraMision/kata-diez.ipynb#ch0000004?line=0'>1</a>\u001b[0m \u001b[39mdef\u001b[39;00m \u001b[39mmain\u001b[39m():\n\u001b[1;32m----> <a href='vscode-notebook-cell:/c%3A/Users/ornel/Documents/pythonPrimeraMision/KatasPrimeraMision/kata-diez.ipynb#ch0000004?line=1'>2</a>\u001b[0m     \u001b[39mopen\u001b[39;49m(\u001b[39m\"\u001b[39;49m\u001b[39m/path/to/mars.jpg\u001b[39;49m\u001b[39m\"\u001b[39;49m)\n",
      "\u001b[1;31mFileNotFoundError\u001b[0m: [Errno 2] No such file or directory: '/path/to/mars.jpg'"
     ]
    }
   ],
   "source": [
    "def main():\n",
    "    open(\"/path/to/mars.jpg\")\n",
    "\n",
    "if __name__ == '__main__':\n",
    "    main()"
   ]
  }
 ],
 "metadata": {
  "interpreter": {
   "hash": "2c1276b1bf1012319b2bca900fab8da0630160470e7a61fa1dece372795d9a31"
  },
  "kernelspec": {
   "display_name": "Python 3.9.10 64-bit",
   "language": "python",
   "name": "python3"
  },
  "language_info": {
   "codemirror_mode": {
    "name": "ipython",
    "version": 3
   },
   "file_extension": ".py",
   "mimetype": "text/x-python",
   "name": "python",
   "nbconvert_exporter": "python",
   "pygments_lexer": "ipython3",
   "version": "3.9.10"
  },
  "orig_nbformat": 4
 },
 "nbformat": 4,
 "nbformat_minor": 2
}
